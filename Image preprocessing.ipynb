{
 "cells": [
  {
   "cell_type": "markdown",
   "metadata": {},
   "source": [
    "### Imports en set up"
   ]
  },
  {
   "cell_type": "code",
   "execution_count": 211,
   "metadata": {},
   "outputs": [],
   "source": [
    "import numpy as np\n",
    "import pandas as pd\n",
    "import cv2\n",
    "from matplotlib import pyplot as plt"
   ]
  },
  {
   "cell_type": "code",
   "execution_count": 212,
   "metadata": {},
   "outputs": [],
   "source": [
    "# nieuwe variable aanmaken voor jouw specifieke pad\n",
    "DATA_PATH_RIK = 'C:/Git/KennisnetwerkDataScience/Image-recognition/opdracht 2/tegels 100x100/'"
   ]
  },
  {
   "cell_type": "markdown",
   "metadata": {},
   "source": [
    "### Functies maken"
   ]
  },
  {
   "cell_type": "code",
   "execution_count": 213,
   "metadata": {},
   "outputs": [],
   "source": [
    "def load_images(image_names):\n",
    "    images = []\n",
    "    for name in image_names:\n",
    "        images.append(cv2.imread(DATA_PATH_RIK+name))\n",
    "        \n",
    "    return images"
   ]
  },
  {
   "cell_type": "code",
   "execution_count": 214,
   "metadata": {},
   "outputs": [],
   "source": [
    "def create_data_from_images(images_arrays, n_parts=100):\n",
    "    \"\"\"Deze functie knipt een array (de numerieke representatie \n",
    "    van een afbeelding) op in n bij n delen.\"\"\"\n",
    "    image_snippets = []\n",
    "    for array in images_arrays:\n",
    "        column_split = np.split(array, n_parts, axis=1)\n",
    "    for col in column_split:\n",
    "        row_split = np.split(col, n_parts, axis=0)\n",
    "        for snippet in row_split:\n",
    "            image_snippets.append(snippet)\n",
    "                \n",
    "    return image_snippets  "
   ]
  },
  {
   "cell_type": "code",
   "execution_count": 215,
   "metadata": {},
   "outputs": [],
   "source": [
    "def show_image_from_snippet(snippet):\n",
    "    plt.imshow(snippet, interpolation='nearest')\n",
    "    plt.show()"
   ]
  },
  {
   "cell_type": "markdown",
   "metadata": {},
   "source": [
    "### Functies uitvoeren"
   ]
  },
  {
   "cell_type": "code",
   "execution_count": 259,
   "metadata": {},
   "outputs": [],
   "source": [
    "images = load_images(['data/163400.0_563200.0.tif', 'data/163600.0_563400.0.tif'])\n",
    "labels = load_images(['labels/WaterVlakkenRasterUitBGT_163400.0_563200.0.tif', \n",
    "                      'labels/WaterVlakkenRasterUitBGT_163600.0_563400.0.tif'])"
   ]
  },
  {
   "cell_type": "code",
   "execution_count": 266,
   "metadata": {},
   "outputs": [],
   "source": [
    "img_snippets = create_data_from_images(images, n_parts=50)\n",
    "label_snippets = create_data_from_images(labels, n_parts=50)"
   ]
  },
  {
   "cell_type": "code",
   "execution_count": 267,
   "metadata": {},
   "outputs": [
    {
     "data": {
      "image/png": "[encoded data removed]",
      "text/plain": [
       "<matplotlib.figure.Figure at 0x2205ada8e10>"
      ]
     },
     "metadata": {},
     "output_type": "display_data"
    }
   ],
   "source": [
    "show_image_from_snippet(img_snippets[600])"
   ]
  },
  {
   "cell_type": "code",
   "execution_count": 268,
   "metadata": {
    "scrolled": true
   },
   "outputs": [
    {
     "data": {
      "image/png": "[encoded data removed]",
      "text/plain": [
       "<matplotlib.figure.Figure at 0x2205b02ef28>"
      ]
     },
     "metadata": {},
     "output_type": "display_data"
    }
   ],
   "source": [
    "show_image_from_snippet(label_snippets[600])"
   ]
  },
  {
   "cell_type": "code",
   "execution_count": null,
   "metadata": {},
   "outputs": [],
   "source": []
  }
 ],
 "metadata": {
  "kernelspec": {
   "display_name": "Python 3",
   "language": "python",
   "name": "python3"
  },
  "language_info": {
   "codemirror_mode": {
    "name": "ipython",
    "version": 3
   },
   "file_extension": ".py",
   "mimetype": "text/x-python",
   "name": "python",
   "nbconvert_exporter": "python",
   "pygments_lexer": "ipython3",
   "version": "3.6.3"
  }
 },
 "nbformat": 4,
 "nbformat_minor": 2
}
